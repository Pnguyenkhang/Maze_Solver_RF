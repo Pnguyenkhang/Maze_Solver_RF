{
 "cells": [
  {
   "cell_type": "code",
   "execution_count": 1,
   "id": "bf2b1039",
   "metadata": {},
   "outputs": [],
   "source": [
    "# Final Project physics 140\n",
    "# Created by Peter Nguyen \n",
    "# Prompt: Use reinforced learning and the bellman equation to train an agent to solve mazes."
   ]
  },
  {
   "cell_type": "code",
   "execution_count": 2,
   "id": "0bc60001",
   "metadata": {},
   "outputs": [],
   "source": [
    "# module imports\n",
    "import numpy as np\n",
    "import matplotlib.pyplot as plt\n",
    "import random"
   ]
  },
  {
   "cell_type": "code",
   "execution_count": 3,
   "id": "7c14a6ec",
   "metadata": {},
   "outputs": [
    {
     "name": "stdout",
     "output_type": "stream",
     "text": [
      "[[0. 0.]\n",
      " [0. 0.]]\n"
     ]
    },
    {
     "data": {
      "text/plain": [
       "array([[0., 1.],\n",
       "       [0., 0.]])"
      ]
     },
     "execution_count": 3,
     "metadata": {},
     "output_type": "execute_result"
    }
   ],
   "source": [
    "# Creation of the graph\n",
    "\n",
    "# Width of Graph\n",
    "W = 2\n",
    "# Length of Graph\n",
    "L = 2\n",
    "\n",
    "# maze initializing\n",
    "maze = np.zeros((W,L))\n",
    "print(maze)\n",
    "maze[0,1] = 1\n",
    "maze"
   ]
  },
  {
   "cell_type": "code",
   "execution_count": 4,
   "id": "eb672b40",
   "metadata": {},
   "outputs": [],
   "source": [
    "# define class of agent\n",
    "class agent():\n",
    "    # Default Constructor\n",
    "    def __init__(self, name):\n",
    "        self.name = name\n",
    "        self.position_x = 0\n",
    "        self.position_y = 0\n",
    "        print(\"agent created:\",name)\n",
    "        \n",
    "    def curr_position(self):\n",
    "        return (self.position_x,self.position_y)\n",
    "        \n",
    "    # Movement method for our agent\n",
    "    def movement(self, maze, move):\n",
    "        # go up\n",
    "        if move == 1:\n",
    "            self.position_y+=1\n",
    "            print(\"up\")\n",
    "        # go down\n",
    "        elif move == 2:\n",
    "            self.position_y-=1\n",
    "            print(\"down\")\n",
    "        # move right\n",
    "        elif move == 3:\n",
    "            self.position_x+=1\n",
    "            print(\"right\")\n",
    "        # move left\n",
    "        elif move == 4:\n",
    "            self.position_x-=1\n",
    "            print(\"left\")\n",
    "            "
   ]
  },
  {
   "cell_type": "code",
   "execution_count": 5,
   "id": "e5e0a6a9",
   "metadata": {},
   "outputs": [
    {
     "name": "stdout",
     "output_type": "stream",
     "text": [
      "agent created: Peter\n"
     ]
    }
   ],
   "source": [
    "# Test Agent\n",
    "a1 = agent(\"Peter\")"
   ]
  },
  {
   "cell_type": "code",
   "execution_count": 6,
   "id": "bc44bba1",
   "metadata": {},
   "outputs": [
    {
     "name": "stdout",
     "output_type": "stream",
     "text": [
      "----------\n",
      "left\n",
      "(-1, 0)\n",
      "----------\n",
      "up\n",
      "(-1, 1)\n",
      "----------\n",
      "down\n",
      "(-1, 0)\n",
      "----------\n",
      "left\n",
      "(-2, 0)\n",
      "----------\n",
      "down\n",
      "(-2, -1)\n"
     ]
    }
   ],
   "source": [
    "for i in range(5):\n",
    "    move = np.random.randint(1,5)\n",
    "    print('----------')\n",
    "    a1.movement(maze, move)\n",
    "    print(a1.curr_position())"
   ]
  },
  {
   "cell_type": "code",
   "execution_count": null,
   "id": "9372e0d9",
   "metadata": {},
   "outputs": [],
   "source": []
  }
 ],
 "metadata": {
  "kernelspec": {
   "display_name": "Python 3",
   "language": "python",
   "name": "python3"
  },
  "language_info": {
   "codemirror_mode": {
    "name": "ipython",
    "version": 3
   },
   "file_extension": ".py",
   "mimetype": "text/x-python",
   "name": "python",
   "nbconvert_exporter": "python",
   "pygments_lexer": "ipython3",
   "version": "3.9.5"
  }
 },
 "nbformat": 4,
 "nbformat_minor": 5
}
