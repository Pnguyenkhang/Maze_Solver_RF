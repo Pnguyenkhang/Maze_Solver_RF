{
 "cells": [
  {
   "cell_type": "code",
   "execution_count": 1,
   "id": "569b8a0c",
   "metadata": {},
   "outputs": [],
   "source": [
    "# Q learning practice\n",
    "# guide https://towardsdatascience.com/simple-reinforcement-learning-q-learning-fcddc4b6fe56\n",
    "# guide 2 https://itnext.io/reinforcement-learning-with-q-tables-5f11168862c8"
   ]
  },
  {
   "cell_type": "code",
   "execution_count": 29,
   "id": "d7b592a2",
   "metadata": {},
   "outputs": [],
   "source": [
    "import numpy as np\n",
    "\n",
    "# Boundary Setting\n",
    "L = 6\n",
    "q_table = np.zeros((L,L,4))\n",
    "for i in range(L):\n",
    "    for j in range(L):\n",
    "        if j == 0: # up\n",
    "            q_table[i,j,3] = None\n",
    "        if i == 0: # right\n",
    "            q_table[i,j,1] = None\n",
    "        if j == L-1: # left\n",
    "            q_table[i,j,2] = None\n",
    "        if i == L-1: # right\n",
    "            q_table[i,j,0] = None\n",
    "            "
   ]
  },
  {
   "cell_type": "code",
   "execution_count": 32,
   "id": "b371afd1",
   "metadata": {},
   "outputs": [
    {
     "data": {
      "text/plain": [
       "array([ 0.,  0., nan,  0.])"
      ]
     },
     "execution_count": 32,
     "metadata": {},
     "output_type": "execute_result"
    }
   ],
   "source": [
    "q_table[4,5]"
   ]
  },
  {
   "cell_type": "code",
   "execution_count": 47,
   "id": "c98bdd18",
   "metadata": {},
   "outputs": [],
   "source": [
    "def getAllPossibleMove(cur_x, cur_y):\n",
    "    # list comprehension check on positioning\n",
    "    poss_step = [x != None for x in q_table[cur_x,cur_y]]\n",
    "    action = []\n",
    "    print(poss_step)\n",
    "    if(poss_step[0]):\n",
    "        action.append(0)\n",
    "    if(poss_step[1]):\n",
    "        action.append(1)\n",
    "    if(poss_step[2]):\n",
    "        action.append(2)\n",
    "    if(poss_step[3]):\n",
    "        action.append(3)\n",
    "    return action"
   ]
  },
  {
   "cell_type": "code",
   "execution_count": 48,
   "id": "9e0a19a4",
   "metadata": {},
   "outputs": [
    {
     "name": "stdout",
     "output_type": "stream",
     "text": [
      "[True, True, True, True]\n",
      "[0, 1, 2, 3]\n"
     ]
    }
   ],
   "source": [
    "poss_actions = getAllPossibleMove(0,0)\n",
    "print(poss_actions)"
   ]
  },
  {
   "cell_type": "code",
   "execution_count": null,
   "id": "12b2308e",
   "metadata": {},
   "outputs": [],
   "source": []
  }
 ],
 "metadata": {
  "kernelspec": {
   "display_name": "Python 3",
   "language": "python",
   "name": "python3"
  },
  "language_info": {
   "codemirror_mode": {
    "name": "ipython",
    "version": 3
   },
   "file_extension": ".py",
   "mimetype": "text/x-python",
   "name": "python",
   "nbconvert_exporter": "python",
   "pygments_lexer": "ipython3",
   "version": "3.9.5"
  }
 },
 "nbformat": 4,
 "nbformat_minor": 5
}
