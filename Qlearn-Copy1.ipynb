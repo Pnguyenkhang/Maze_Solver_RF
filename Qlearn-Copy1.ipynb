{
 "cells": [
  {
   "cell_type": "code",
   "execution_count": 1,
   "id": "569b8a0c",
   "metadata": {},
   "outputs": [],
   "source": [
    "# Q learning practice\n",
    "# guide https://towardsdatascience.com/simple-reinforcement-learning-q-learning-fcddc4b6fe56\n",
    "# guide 2 https://itnext.io/reinforcement-learning-with-q-tables-5f11168862c8"
   ]
  },
  {
   "cell_type": "code",
   "execution_count": 22,
   "id": "d7b592a2",
   "metadata": {},
   "outputs": [],
   "source": [
    "import numpy as np\n",
    "\n",
    "# Load in maze from file\n",
    "def load_maze(mazename):\n",
    "    return np.load(mazename)\n",
    "\n",
    "maze = load_maze(\"maze4.npy\")\n",
    "\n",
    "\n",
    "# Boundary Setting\n",
    "L = 6\n",
    "q_table = np.zeros((L,L,4), int)\n",
    "for i in range(L):\n",
    "    for j in range(L):\n",
    "        if j == 0: # up\n",
    "            q_table[i,j,3] = -100\n",
    "        if i == 0: # right\n",
    "            q_table[i,j,1] = -100\n",
    "        if j == L-1: # left\n",
    "            q_table[i,j,2] = -100\n",
    "        if i == L-1: # right\n",
    "            q_table[i,j,0] = -100\n",
    "            \n",
    "        if maze[i,j] == -100 and i > 1 and j > 1 and i < L-1 and j < L-1:\n",
    "            q_table[i-1,j,0] = -100\n",
    "            q_table[i+1,j,1] = -100\n",
    "            q_table[i,j-1,2] = -100\n",
    "            q_table[i,j+1,3] = -100\n",
    "\n"
   ]
  },
  {
   "cell_type": "code",
   "execution_count": 23,
   "id": "b371afd1",
   "metadata": {},
   "outputs": [
    {
     "data": {
      "text/plain": [
       "array([   0,    0, -100,    0])"
      ]
     },
     "execution_count": 23,
     "metadata": {},
     "output_type": "execute_result"
    }
   ],
   "source": [
    "q_table[4,5]"
   ]
  },
  {
   "cell_type": "code",
   "execution_count": 24,
   "id": "c98bdd18",
   "metadata": {},
   "outputs": [],
   "source": [
    "def getAllPossibleMove(cur_x, cur_y):\n",
    "    # list comprehension check on positioning\n",
    "    poss_step = [x != -100 for x in q_table[cur_x,cur_y]]\n",
    "    action = []\n",
    "    print(poss_step)\n",
    "    if(poss_step[0]):\n",
    "        action.append(0)\n",
    "    if(poss_step[1]):\n",
    "        action.append(1)\n",
    "    if(poss_step[2]):\n",
    "        action.append(2)\n",
    "    if(poss_step[3]):\n",
    "        action.append(3)\n",
    "    return action"
   ]
  },
  {
   "cell_type": "code",
   "execution_count": 25,
   "id": "9e0a19a4",
   "metadata": {},
   "outputs": [
    {
     "name": "stdout",
     "output_type": "stream",
     "text": [
      "[True, False, True, False]\n",
      "[0, 2]\n",
      "[True, False, True, True]\n",
      "[0, 2, 3]\n",
      "[True, False, True, True]\n",
      "[0, 2, 3]\n",
      "[True, False, True, True]\n",
      "[0, 2, 3]\n",
      "[True, False, True, True]\n",
      "[0, 2, 3]\n",
      "[True, False, False, True]\n",
      "[0, 3]\n",
      "[True, True, True, False]\n",
      "[0, 1, 2]\n",
      "[True, True, True, True]\n",
      "[0, 1, 2, 3]\n",
      "[False, True, True, True]\n",
      "[1, 2, 3]\n",
      "[False, True, True, True]\n",
      "[1, 2, 3]\n",
      "[True, True, True, True]\n",
      "[0, 1, 2, 3]\n",
      "[True, True, False, True]\n",
      "[0, 1, 3]\n",
      "[True, True, True, False]\n",
      "[0, 1, 2]\n",
      "[True, True, False, True]\n",
      "[0, 1, 3]\n",
      "[True, True, False, True]\n",
      "[0, 1, 3]\n",
      "[True, True, True, False]\n",
      "[0, 1, 2]\n",
      "[True, True, True, False]\n",
      "[0, 1, 2]\n",
      "[True, True, False, True]\n",
      "[0, 1, 3]\n",
      "[True, True, True, False]\n",
      "[0, 1, 2]\n",
      "[True, True, True, True]\n",
      "[0, 1, 2, 3]\n",
      "[True, False, True, True]\n",
      "[0, 2, 3]\n",
      "[True, False, True, True]\n",
      "[0, 2, 3]\n",
      "[True, True, True, True]\n",
      "[0, 1, 2, 3]\n",
      "[True, True, False, True]\n",
      "[0, 1, 3]\n",
      "[True, True, True, False]\n",
      "[0, 1, 2]\n",
      "[True, True, True, True]\n",
      "[0, 1, 2, 3]\n",
      "[True, True, True, True]\n",
      "[0, 1, 2, 3]\n",
      "[True, True, True, True]\n",
      "[0, 1, 2, 3]\n",
      "[True, True, True, True]\n",
      "[0, 1, 2, 3]\n",
      "[True, True, False, True]\n",
      "[0, 1, 3]\n",
      "[False, True, True, False]\n",
      "[1, 2]\n",
      "[False, True, True, True]\n",
      "[1, 2, 3]\n",
      "[False, True, True, True]\n",
      "[1, 2, 3]\n",
      "[False, True, True, True]\n",
      "[1, 2, 3]\n",
      "[False, True, True, True]\n",
      "[1, 2, 3]\n",
      "[False, True, False, True]\n",
      "[1, 3]\n"
     ]
    }
   ],
   "source": [
    "for i in range(L):\n",
    "    for j in range(L):\n",
    "        poss_actions = getAllPossibleMove(i,j)\n",
    "        print(poss_actions)"
   ]
  },
  {
   "cell_type": "code",
   "execution_count": null,
   "id": "12b2308e",
   "metadata": {},
   "outputs": [],
   "source": []
  }
 ],
 "metadata": {
  "kernelspec": {
   "display_name": "Python 3",
   "language": "python",
   "name": "python3"
  },
  "language_info": {
   "codemirror_mode": {
    "name": "ipython",
    "version": 3
   },
   "file_extension": ".py",
   "mimetype": "text/x-python",
   "name": "python",
   "nbconvert_exporter": "python",
   "pygments_lexer": "ipython3",
   "version": "3.9.5"
  }
 },
 "nbformat": 4,
 "nbformat_minor": 5
}
