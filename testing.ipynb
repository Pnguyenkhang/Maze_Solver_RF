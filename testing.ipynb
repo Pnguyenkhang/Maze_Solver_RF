{
 "cells": [
  {
   "cell_type": "code",
   "execution_count": 1,
   "id": "7ea245b5",
   "metadata": {},
   "outputs": [],
   "source": [
    "# Testing Page"
   ]
  },
  {
   "cell_type": "code",
   "execution_count": 2,
   "id": "7ae35a8d",
   "metadata": {},
   "outputs": [],
   "source": [
    "# module imports\n",
    "import numpy as np\n",
    "import matplotlib.pyplot as plt\n",
    "import random\n",
    "from matplotlib import animation"
   ]
  },
  {
   "cell_type": "code",
   "execution_count": 3,
   "id": "fb455773",
   "metadata": {},
   "outputs": [
    {
     "name": "stdout",
     "output_type": "stream",
     "text": [
      "[[0 0 0 0 0 0]\n",
      " [0 0 0 0 0 0]\n",
      " [0 0 0 0 0 0]\n",
      " [0 0 0 0 0 0]\n",
      " [0 0 0 0 0 0]\n",
      " [0 0 0 0 0 0]]\n"
     ]
    }
   ],
   "source": [
    "# Creation of the graph\n",
    "\n",
    "# Width of Graph\n",
    "W = 6\n",
    "# Length of Graph\n",
    "L = 6\n",
    "# edge\n",
    "Edge = 0\n",
    "# Area\n",
    "A = W*L\n",
    "\n",
    "# maze initializing\n",
    "maze = np.zeros((W,L), int)\n",
    "print(maze)\n",
    "#maze[0,1] = 1\n",
    "#maze[0,0] = 2"
   ]
  },
  {
   "cell_type": "code",
   "execution_count": 4,
   "id": "793bb8b9",
   "metadata": {},
   "outputs": [
    {
     "name": "stdout",
     "output_type": "stream",
     "text": [
      "[[0 0 0 0 0 0]\n",
      " [0 0 0 0 0 0]\n",
      " [0 0 0 0 0 0]\n",
      " [0 0 0 0 0 0]\n",
      " [0 0 0 0 0 0]\n",
      " [0 0 0 0 0 0]]\n",
      "\n",
      "\n",
      "[[-1  0  0  0 -1  0]\n",
      " [ 0  0  0  0  0  0]\n",
      " [ 0 -1 -1  0  0  0]\n",
      " [ 0 -1  0  0  0 -1]\n",
      " [ 0  0  0  0  0  0]\n",
      " [ 0  0  0  0  0  0]]\n"
     ]
    }
   ],
   "source": [
    "# Todo list:\n",
    "# if -1 = wall, block path\n",
    "# if 1 then ending\n",
    "# Creation of the graph\n",
    "\n",
    "# Width of Graph\n",
    "W = 6\n",
    "# Length of Graph\n",
    "L = 6\n",
    "# edge\n",
    "Edge = 0\n",
    "\n",
    "# maze initializing\n",
    "maze = np.zeros((W,L), int)\n",
    "print(maze)\n",
    "print()\n",
    "#maze[0,1] = 1\n",
    "#maze[0,0] = 2\n",
    "\n",
    "# randomizer\n",
    "for i in range(W):\n",
    "    for j in range(L):\n",
    "        if np.random.randint(0,10) < 2:\n",
    "            maze[i,j] = -1\n",
    "\n",
    "\n",
    "#maze = [[-1, 0, 0, 0, 0, 0],[-1, 0, 0, 0, 0, 0],[-1, -1, -1, 0, 0, 0],[0, 0, 0, 0, 0, -1],[0, 1, 0, -1, 0, 0],[-1, 0, 0, 0, -1, 0]]\n",
    "\n",
    "\n",
    "\n",
    "print()\n",
    "        \n",
    "\n",
    "# end goal\n",
    "# maze[5,5] = 1\n",
    "print(maze)\n",
    "# contains the end goal\n",
    "win_x = 0\n",
    "win_y = 0\n",
    "maze[win_x,win_y] = 1"
   ]
  },
  {
   "cell_type": "code",
   "execution_count": 5,
   "id": "af4639e3",
   "metadata": {},
   "outputs": [],
   "source": [
    "# saving and loading of maze\n",
    "# np.save('maze2',maze)"
   ]
  },
  {
   "cell_type": "code",
   "execution_count": 6,
   "id": "782ead70",
   "metadata": {},
   "outputs": [],
   "source": [
    "# load in maze \n",
    "# maze = np.load('maze2.npy')\n"
   ]
  },
  {
   "cell_type": "code",
   "execution_count": 7,
   "id": "218c7ee4",
   "metadata": {},
   "outputs": [
    {
     "data": {
      "text/plain": [
       "array([[ 1,  0,  0,  0, -1,  0],\n",
       "       [ 0,  0,  0,  0,  0,  0],\n",
       "       [ 0, -1, -1,  0,  0,  0],\n",
       "       [ 0, -1,  0,  0,  0, -1],\n",
       "       [ 0,  0,  0,  0,  0,  0],\n",
       "       [ 0,  0,  0,  0,  0,  0]])"
      ]
     },
     "execution_count": 7,
     "metadata": {},
     "output_type": "execute_result"
    }
   ],
   "source": [
    "maze"
   ]
  },
  {
   "cell_type": "code",
   "execution_count": 8,
   "id": "30e463ef",
   "metadata": {},
   "outputs": [],
   "source": [
    "# define class of agent\n",
    "class agent():\n",
    "    # Default Constructor\n",
    "    def __init__(self, name, pos_x = 0, pos_y = 0):\n",
    "        self.name = name\n",
    "        self.position_x = pos_x\n",
    "        self.position_y = pos_y\n",
    "        print(\"agent created:\",name)\n",
    "        \n",
    "    def curr_position(self):\n",
    "        return (self.position_x,self.position_y)\n",
    "    \n",
    "        \n",
    "    # Movement method for our agent\n",
    "    def movement(self, maze, move):\n",
    "        #view_maze(maze)\n",
    "        print(\"new movement made\")\n",
    "        \n",
    "        # go down\n",
    "        if move == 1 and maze[self.position_x,self.position_y+1]!=-1:\n",
    "            self.position_y+=1\n",
    "            print(\"right\")\n",
    "        # go up\n",
    "        elif move == 2 and maze[self.position_x,self.position_y-1]!=-1:\n",
    "            self.position_y-=1\n",
    "            print(\"left\")\n",
    "        # move right\n",
    "        elif move == 3 and maze[self.position_x+1,self.position_y]!=-1:\n",
    "            self.position_x+=1\n",
    "            print(\"down\")\n",
    "        # move left\n",
    "        elif move == 4 and maze[self.position_x-1,self.position_y]!=-1:\n",
    "            self.position_x-=1\n",
    "            print(\"up\")\n",
    "        else:\n",
    "            print(\"hit a wall\")\n",
    "            \n",
    "            "
   ]
  },
  {
   "cell_type": "code",
   "execution_count": 9,
   "id": "a18f7eb6",
   "metadata": {},
   "outputs": [
    {
     "name": "stdout",
     "output_type": "stream",
     "text": [
      "agent created: Peter\n"
     ]
    }
   ],
   "source": [
    "# Test Agent\n",
    "a1 = agent(\"Peter\",2,2)"
   ]
  },
  {
   "cell_type": "code",
   "execution_count": 10,
   "id": "d115bf73",
   "metadata": {},
   "outputs": [],
   "source": [
    "def view_maze(maze):\n",
    "    plt.imshow(maze)\n",
    "    plt.show()"
   ]
  },
  {
   "cell_type": "code",
   "execution_count": 11,
   "id": "4bc5d311",
   "metadata": {},
   "outputs": [
    {
     "name": "stdout",
     "output_type": "stream",
     "text": [
      "start\n",
      "x 3 y 3\n"
     ]
    },
    {
     "data": {
      "image/png": "[encoded data removed]",
      "text/plain": [
       "<Figure size 432x288 with 1 Axes>"
      ]
     },
     "metadata": {
      "needs_background": "light"
     },
     "output_type": "display_data"
    },
    {
     "name": "stdout",
     "output_type": "stream",
     "text": [
      "iter 0\n",
      "new movement made\n",
      "up\n",
      "---------- END OF TURN ---------------\n",
      "x 2 y 3\n"
     ]
    },
    {
     "data": {
      "image/png": "[encoded data removed]",
      "text/plain": [
       "<Figure size 432x288 with 1 Axes>"
      ]
     },
     "metadata": {
      "needs_background": "light"
     },
     "output_type": "display_data"
    },
    {
     "name": "stdout",
     "output_type": "stream",
     "text": [
      "iter 1\n",
      "new movement made\n",
      "right\n",
      "---------- END OF TURN ---------------\n",
      "x 2 y 4\n"
     ]
    },
    {
     "data": {
      "image/png": "[encoded data removed]",
      "text/plain": [
       "<Figure size 432x288 with 1 Axes>"
      ]
     },
     "metadata": {
      "needs_background": "light"
     },
     "output_type": "display_data"
    },
    {
     "name": "stdout",
     "output_type": "stream",
     "text": [
      "iter 2\n",
      "new movement made\n",
      "left\n",
      "---------- END OF TURN ---------------\n",
      "x 2 y 3\n"
     ]
    },
    {
     "data": {
      "image/png": "[encoded data removed]",
      "text/plain": [
       "<Figure size 432x288 with 1 Axes>"
      ]
     },
     "metadata": {
      "needs_background": "light"
     },
     "output_type": "display_data"
    },
    {
     "name": "stdout",
     "output_type": "stream",
     "text": [
      "iter 3\n",
      "new movement made\n",
      "right\n",
      "---------- END OF TURN ---------------\n",
      "x 2 y 4\n"
     ]
    },
    {
     "data": {
      "image/png": "[encoded data removed]",
      "text/plain": [
       "<Figure size 432x288 with 1 Axes>"
      ]
     },
     "metadata": {
      "needs_background": "light"
     },
     "output_type": "display_data"
    },
    {
     "name": "stdout",
     "output_type": "stream",
     "text": [
      "iter 4\n",
      "new movement made\n",
      "right\n",
      "---------- END OF TURN ---------------\n",
      "x 2 y 5\n"
     ]
    },
    {
     "data": {
      "image/png": "[encoded data removed]",
      "text/plain": [
       "<Figure size 432x288 with 1 Axes>"
      ]
     },
     "metadata": {
      "needs_background": "light"
     },
     "output_type": "display_data"
    },
    {
     "name": "stdout",
     "output_type": "stream",
     "text": [
      "iter 5\n",
      "new movement made\n",
      "left\n",
      "---------- END OF TURN ---------------\n",
      "x 2 y 4\n"
     ]
    },
    {
     "data": {
      "image/png": "[encoded data removed]",
      "text/plain": [
       "<Figure size 432x288 with 1 Axes>"
      ]
     },
     "metadata": {
      "needs_background": "light"
     },
     "output_type": "display_data"
    },
    {
     "name": "stdout",
     "output_type": "stream",
     "text": [
      "iter 6\n",
      "new movement made\n",
      "left\n",
      "---------- END OF TURN ---------------\n",
      "x 2 y 3\n"
     ]
    },
    {
     "data": {
      "image/png": "[encoded data removed]",
      "text/plain": [
       "<Figure size 432x288 with 1 Axes>"
      ]
     },
     "metadata": {
      "needs_background": "light"
     },
     "output_type": "display_data"
    },
    {
     "name": "stdout",
     "output_type": "stream",
     "text": [
      "iter 7\n",
      "new movement made\n",
      "up\n",
      "---------- END OF TURN ---------------\n",
      "x 1 y 3\n"
     ]
    },
    {
     "data": {
      "image/png": "[encoded data removed]",
      "text/plain": [
       "<Figure size 432x288 with 1 Axes>"
      ]
     },
     "metadata": {
      "needs_background": "light"
     },
     "output_type": "display_data"
    },
    {
     "name": "stdout",
     "output_type": "stream",
     "text": [
      "iter 8\n",
      "new movement made\n",
      "left\n",
      "---------- END OF TURN ---------------\n",
      "x 1 y 2\n"
     ]
    },
    {
     "data": {
      "image/png": "[encoded data removed]",
      "text/plain": [
       "<Figure size 432x288 with 1 Axes>"
      ]
     },
     "metadata": {
      "needs_background": "light"
     },
     "output_type": "display_data"
    },
    {
     "name": "stdout",
     "output_type": "stream",
     "text": [
      "iter 9\n",
      "new movement made\n",
      "right\n",
      "---------- END OF TURN ---------------\n",
      "x 1 y 3\n"
     ]
    },
    {
     "data": {
      "image/png": "[encoded data removed]",
      "text/plain": [
       "<Figure size 432x288 with 1 Axes>"
      ]
     },
     "metadata": {
      "needs_background": "light"
     },
     "output_type": "display_data"
    },
    {
     "name": "stdout",
     "output_type": "stream",
     "text": [
      "iter 10\n",
      "new movement made\n",
      "right\n",
      "---------- END OF TURN ---------------\n",
      "x 1 y 4\n"
     ]
    },
    {
     "data": {
      "image/png": "[encoded data removed]",
      "text/plain": [
       "<Figure size 432x288 with 1 Axes>"
      ]
     },
     "metadata": {
      "needs_background": "light"
     },
     "output_type": "display_data"
    },
    {
     "name": "stdout",
     "output_type": "stream",
     "text": [
      "iter 11\n",
      "boundary hit on up\n",
      "---------- END OF TURN ---------------\n",
      "x 1 y 4\n"
     ]
    },
    {
     "data": {
      "image/png": "[encoded data removed]",
      "text/plain": [
       "<Figure size 432x288 with 1 Axes>"
      ]
     },
     "metadata": {
      "needs_background": "light"
     },
     "output_type": "display_data"
    },
    {
     "name": "stdout",
     "output_type": "stream",
     "text": [
      "iter 12\n",
      "new movement made\n",
      "hit a wall\n",
      "---------- END OF TURN ---------------\n",
      "x 1 y 4\n"
     ]
    },
    {
     "data": {
      "image/png": "[encoded data removed]",
      "text/plain": [
       "<Figure size 432x288 with 1 Axes>"
      ]
     },
     "metadata": {
      "needs_background": "light"
     },
     "output_type": "display_data"
    },
    {
     "name": "stdout",
     "output_type": "stream",
     "text": [
      "iter 13\n",
      "boundary hit on up\n",
      "---------- END OF TURN ---------------\n",
      "x 1 y 4\n"
     ]
    },
    {
     "data": {
      "image/png": "[encoded data removed]",
      "text/plain": [
       "<Figure size 432x288 with 1 Axes>"
      ]
     },
     "metadata": {
      "needs_background": "light"
     },
     "output_type": "display_data"
    },
    {
     "name": "stdout",
     "output_type": "stream",
     "text": [
      "iter 14\n",
      "new movement made\n",
      "down\n",
      "---------- END OF TURN ---------------\n",
      "x 2 y 4\n"
     ]
    },
    {
     "data": {
      "image/png": "[encoded data removed]",
      "text/plain": [
       "<Figure size 432x288 with 1 Axes>"
      ]
     },
     "metadata": {
      "needs_background": "light"
     },
     "output_type": "display_data"
    },
    {
     "name": "stdout",
     "output_type": "stream",
     "text": [
      "iter 15\n",
      "new movement made\n",
      "right\n",
      "---------- END OF TURN ---------------\n",
      "x 2 y 5\n"
     ]
    },
    {
     "data": {
      "image/png": "[encoded data removed]",
      "text/plain": [
       "<Figure size 432x288 with 1 Axes>"
      ]
     },
     "metadata": {
      "needs_background": "light"
     },
     "output_type": "display_data"
    },
    {
     "name": "stdout",
     "output_type": "stream",
     "text": [
      "iter 16\n",
      "new movement made\n",
      "left\n",
      "---------- END OF TURN ---------------\n",
      "x 2 y 4\n"
     ]
    },
    {
     "data": {
      "image/png": "[encoded data removed]",
      "text/plain": [
       "<Figure size 432x288 with 1 Axes>"
      ]
     },
     "metadata": {
      "needs_background": "light"
     },
     "output_type": "display_data"
    },
    {
     "name": "stdout",
     "output_type": "stream",
     "text": [
      "iter 17\n",
      "new movement made\n",
      "right\n",
      "---------- END OF TURN ---------------\n",
      "x 2 y 5\n"
     ]
    },
    {
     "data": {
      "image/png": "[encoded data removed]",
      "text/plain": [
       "<Figure size 432x288 with 1 Axes>"
      ]
     },
     "metadata": {
      "needs_background": "light"
     },
     "output_type": "display_data"
    },
    {
     "name": "stdout",
     "output_type": "stream",
     "text": [
      "iter 18\n",
      "new movement made\n",
      "down\n",
      "---------- END OF TURN ---------------\n",
      "x 3 y 5\n"
     ]
    },
    {
     "data": {
      "image/png": "[encoded data removed]",
      "text/plain": [
       "<Figure size 432x288 with 1 Axes>"
      ]
     },
     "metadata": {
      "needs_background": "light"
     },
     "output_type": "display_data"
    },
    {
     "name": "stdout",
     "output_type": "stream",
     "text": [
      "iter 19\n",
      "new movement made\n",
      "up\n",
      "---------- END OF TURN ---------------\n",
      "x 2 y 5\n"
     ]
    },
    {
     "data": {
      "image/png": "[encoded data removed]",
      "text/plain": [
       "<Figure size 432x288 with 1 Axes>"
      ]
     },
     "metadata": {
      "needs_background": "light"
     },
     "output_type": "display_data"
    },
    {
     "name": "stdout",
     "output_type": "stream",
     "text": [
      "iter 20\n",
      "new movement made\n",
      "down\n",
      "---------- END OF TURN ---------------\n",
      "x 3 y 5\n"
     ]
    },
    {
     "data": {
      "image/png": "[encoded data removed]",
      "text/plain": [
       "<Figure size 432x288 with 1 Axes>"
      ]
     },
     "metadata": {
      "needs_background": "light"
     },
     "output_type": "display_data"
    },
    {
     "name": "stdout",
     "output_type": "stream",
     "text": [
      "iter 21\n",
      "new movement made\n",
      "up\n",
      "---------- END OF TURN ---------------\n",
      "x 2 y 5\n"
     ]
    },
    {
     "data": {
      "image/png": "[encoded data removed]",
      "text/plain": [
       "<Figure size 432x288 with 1 Axes>"
      ]
     },
     "metadata": {
      "needs_background": "light"
     },
     "output_type": "display_data"
    },
    {
     "name": "stdout",
     "output_type": "stream",
     "text": [
      "iter 22\n",
      "new movement made\n",
      "hit a wall\n",
      "---------- END OF TURN ---------------\n",
      "x 2 y 5\n"
     ]
    },
    {
     "data": {
      "image/png": "[encoded data removed]",
      "text/plain": [
       "<Figure size 432x288 with 1 Axes>"
      ]
     },
     "metadata": {
      "needs_background": "light"
     },
     "output_type": "display_data"
    },
    {
     "name": "stdout",
     "output_type": "stream",
     "text": [
      "iter 23\n",
      "new movement made\n",
      "down\n",
      "---------- END OF TURN ---------------\n",
      "x 3 y 5\n"
     ]
    },
    {
     "data": {
      "image/png": "[encoded data removed]",
      "text/plain": [
       "<Figure size 432x288 with 1 Axes>"
      ]
     },
     "metadata": {
      "needs_background": "light"
     },
     "output_type": "display_data"
    },
    {
     "name": "stdout",
     "output_type": "stream",
     "text": [
      "iter 24\n",
      "new movement made\n",
      "left\n",
      "---------- END OF TURN ---------------\n",
      "x 3 y 4\n"
     ]
    },
    {
     "data": {
      "image/png": "[encoded data removed]",
      "text/plain": [
       "<Figure size 432x288 with 1 Axes>"
      ]
     },
     "metadata": {
      "needs_background": "light"
     },
     "output_type": "display_data"
    },
    {
     "name": "stdout",
     "output_type": "stream",
     "text": [
      "iter 25\n",
      "new movement made\n",
      "up\n",
      "---------- END OF TURN ---------------\n",
      "x 2 y 4\n"
     ]
    },
    {
     "data": {
      "image/png": "[encoded data removed]",
      "text/plain": [
       "<Figure size 432x288 with 1 Axes>"
      ]
     },
     "metadata": {
      "needs_background": "light"
     },
     "output_type": "display_data"
    },
    {
     "name": "stdout",
     "output_type": "stream",
     "text": [
      "iter 26\n",
      "new movement made\n",
      "up\n",
      "---------- END OF TURN ---------------\n",
      "x 1 y 4\n"
     ]
    },
    {
     "data": {
      "image/png": "[encoded data removed]",
      "text/plain": [
       "<Figure size 432x288 with 1 Axes>"
      ]
     },
     "metadata": {
      "needs_background": "light"
     },
     "output_type": "display_data"
    },
    {
     "name": "stdout",
     "output_type": "stream",
     "text": [
      "iter 27\n",
      "boundary hit on up\n",
      "---------- END OF TURN ---------------\n",
      "x 1 y 4\n"
     ]
    },
    {
     "data": {
      "image/png": "[encoded data removed]",
      "text/plain": [
       "<Figure size 432x288 with 1 Axes>"
      ]
     },
     "metadata": {
      "needs_background": "light"
     },
     "output_type": "display_data"
    },
    {
     "name": "stdout",
     "output_type": "stream",
     "text": [
      "iter 28\n",
      "new movement made\n",
      "down\n",
      "---------- END OF TURN ---------------\n",
      "x 2 y 4\n"
     ]
    },
    {
     "data": {
      "image/png": "[encoded data removed]",
      "text/plain": [
       "<Figure size 432x288 with 1 Axes>"
      ]
     },
     "metadata": {
      "needs_background": "light"
     },
     "output_type": "display_data"
    },
    {
     "name": "stdout",
     "output_type": "stream",
     "text": [
      "iter 29\n",
      "new movement made\n",
      "left\n",
      "---------- END OF TURN ---------------\n",
      "x 2 y 3\n"
     ]
    },
    {
     "data": {
      "image/png": "[encoded data removed]",
      "text/plain": [
       "<Figure size 432x288 with 1 Axes>"
      ]
     },
     "metadata": {
      "needs_background": "light"
     },
     "output_type": "display_data"
    },
    {
     "name": "stdout",
     "output_type": "stream",
     "text": [
      "iter 30\n",
      "new movement made\n",
      "left\n",
      "---------- END OF TURN ---------------\n",
      "x 2 y 2\n"
     ]
    },
    {
     "data": {
      "image/png": "[encoded data removed]",
      "text/plain": [
       "<Figure size 432x288 with 1 Axes>"
      ]
     },
     "metadata": {
      "needs_background": "light"
     },
     "output_type": "display_data"
    },
    {
     "name": "stdout",
     "output_type": "stream",
     "text": [
      "iter 31\n",
      "new movement made\n",
      "right\n",
      "---------- END OF TURN ---------------\n",
      "x 2 y 3\n"
     ]
    },
    {
     "data": {
      "image/png": "[encoded data removed]",
      "text/plain": [
       "<Figure size 432x288 with 1 Axes>"
      ]
     },
     "metadata": {
      "needs_background": "light"
     },
     "output_type": "display_data"
    },
    {
     "name": "stdout",
     "output_type": "stream",
     "text": [
      "iter 32\n",
      "new movement made\n",
      "left\n",
      "---------- END OF TURN ---------------\n",
      "x 2 y 2\n"
     ]
    },
    {
     "data": {
      "image/png": "[encoded data removed]",
      "text/plain": [
       "<Figure size 432x288 with 1 Axes>"
      ]
     },
     "metadata": {
      "needs_background": "light"
     },
     "output_type": "display_data"
    },
    {
     "name": "stdout",
     "output_type": "stream",
     "text": [
      "iter 33\n",
      "new movement made\n",
      "left\n",
      "---------- END OF TURN ---------------\n",
      "x 2 y 1\n"
     ]
    },
    {
     "data": {
      "image/png": "[encoded data removed]",
      "text/plain": [
       "<Figure size 432x288 with 1 Axes>"
      ]
     },
     "metadata": {
      "needs_background": "light"
     },
     "output_type": "display_data"
    },
    {
     "name": "stdout",
     "output_type": "stream",
     "text": [
      "iter 34\n",
      "new movement made\n",
      "up\n",
      "---------- END OF TURN ---------------\n",
      "Goal reached\n"
     ]
    }
   ],
   "source": [
    "# boundary checker + movement functionality\n",
    "\n",
    "\n",
    "# animation\n",
    "from matplotlib.animation import FuncAnimation\n",
    "plt.rcParams['figure.figsize'] = [10,10]\n",
    "plt.rcParams['figure.autolayout'] = True\n",
    "\n",
    "fig, ax = plt.subplots()\n",
    "\n",
    "def update(maze):\n",
    "    ax.imshow(maze)\n",
    "    ax.set_axis_off()\n",
    "\n",
    "#start\n",
    "print(\"start\")\n",
    "\n",
    "for i in range(100):\n",
    "    x_pos, y_pos = a1.curr_position()\n",
    "    if x_pos == win_x and y_pos == win_y:\n",
    "        print(\"Goal reached\")\n",
    "        break\n",
    "    print(\"x\",x_pos + 1,\"y\",y_pos + 1)\n",
    "    maze[x_pos,y_pos] = i + 101\n",
    "    #view_maze(maze)\n",
    "    ax.imshow(maze)\n",
    "    print('iter',i)\n",
    "    move = np.random.randint(1,5)\n",
    "    # Checks for boundaries in down\n",
    "    if x_pos < W - 1 and move == 3:\n",
    "        a1.movement(maze, move)\n",
    "        \n",
    "    # Checks for boundaries in up\n",
    "    elif x_pos > Edge and move == 4:\n",
    "        a1.movement(maze, move)\n",
    "    #checks for boundaries in left\n",
    "    elif y_pos < L - 1 and move == 1:\n",
    "        a1.movement(maze, move)\n",
    "    # Checks for boundaries in right\n",
    "    elif y_pos > Edge and move == 2:\n",
    "        a1.movement(maze, move)\n",
    "    # indicate that the agent hit the boundary\n",
    "    else:\n",
    "        if move == 1:\n",
    "            print(\"boundary hit on right\")\n",
    "        elif move == 2:\n",
    "            print(\"boundary hit on left\")\n",
    "        elif move == 3:\n",
    "            print(\"boundary hit on down\")\n",
    "        elif move == 4:\n",
    "            print(\"boundary hit on up\")\n",
    "    print('---------- END OF TURN ---------------')"
   ]
  },
  {
   "cell_type": "code",
   "execution_count": 12,
   "id": "191a076d",
   "metadata": {},
   "outputs": [],
   "source": [
    "# Difference between main and this is collision boundaries"
   ]
  }
 ],
 "metadata": {
  "kernelspec": {
   "display_name": "Python 3",
   "language": "python",
   "name": "python3"
  },
  "language_info": {
   "codemirror_mode": {
    "name": "ipython",
    "version": 3
   },
   "file_extension": ".py",
   "mimetype": "text/x-python",
   "name": "python",
   "nbconvert_exporter": "python",
   "pygments_lexer": "ipython3",
   "version": "3.9.5"
  }
 },
 "nbformat": 4,
 "nbformat_minor": 5
}
