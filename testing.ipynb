{
 "cells": [
  {
   "cell_type": "code",
   "execution_count": 1,
   "id": "7ea245b5",
   "metadata": {},
   "outputs": [],
   "source": [
    "# Testing Page"
   ]
  },
  {
   "cell_type": "code",
   "execution_count": 2,
   "id": "7ae35a8d",
   "metadata": {},
   "outputs": [],
   "source": [
    "# module imports\n",
    "import numpy as np\n",
    "import matplotlib.pyplot as plt\n",
    "import random\n",
    "from matplotlib import animation"
   ]
  },
  {
   "cell_type": "code",
   "execution_count": 3,
   "id": "d91d62a8",
   "metadata": {},
   "outputs": [],
   "source": [
    "def getNextState(cur_x, cur_y, action):\n",
    "    if (action == 0 and peek_next(action, cur_x, cur_y, maze)): # right\n",
    "        print('right is safe')\n",
    "        return cur_x,cur_y + 1\n",
    "    elif (action == 1 and peek_next(action, cur_x, cur_y, maze)): # left\n",
    "        print('left is safe')\n",
    "        return cur_x,cur_y - 1\n",
    "    elif (action == 2 and peek_next(action, cur_x, cur_y, maze)): # down\n",
    "        print('down is safe')\n",
    "        return cur_x + 1,cur_y\n",
    "    elif (action == 3 and peek_next(action, cur_x, cur_y, maze)): # up\n",
    "        print('up is safe')\n",
    "        return cur_x - 1,cur_y\n",
    "    else:\n",
    "        return cur_x, cur_y\n",
    "    \n"
   ]
  },
  {
   "cell_type": "code",
   "execution_count": null,
   "id": "48859350",
   "metadata": {},
   "outputs": [],
   "source": []
  }
 ],
 "metadata": {
  "kernelspec": {
   "display_name": "Python 3",
   "language": "python",
   "name": "python3"
  },
  "language_info": {
   "codemirror_mode": {
    "name": "ipython",
    "version": 3
   },
   "file_extension": ".py",
   "mimetype": "text/x-python",
   "name": "python",
   "nbconvert_exporter": "python",
   "pygments_lexer": "ipython3",
   "version": "3.9.5"
  }
 },
 "nbformat": 4,
 "nbformat_minor": 5
}
