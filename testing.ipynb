{
 "cells": [
  {
   "cell_type": "code",
   "execution_count": 1,
   "id": "7ea245b5",
   "metadata": {},
   "outputs": [],
   "source": [
    "# Testing Page"
   ]
  },
  {
   "cell_type": "code",
   "execution_count": 2,
   "id": "7ae35a8d",
   "metadata": {},
   "outputs": [],
   "source": [
    "# module imports\n",
    "import numpy as np\n",
    "import matplotlib.pyplot as plt\n",
    "import random"
   ]
  },
  {
   "cell_type": "code",
   "execution_count": 3,
   "id": "fb455773",
   "metadata": {},
   "outputs": [
    {
     "name": "stdout",
     "output_type": "stream",
     "text": [
      "[[0 0 0 0 0 0]\n",
      " [0 0 0 0 0 0]\n",
      " [0 0 0 0 0 0]\n",
      " [0 0 0 0 0 0]\n",
      " [0 0 0 0 0 0]\n",
      " [0 0 0 0 0 0]]\n"
     ]
    }
   ],
   "source": [
    "# Creation of the graph\n",
    "\n",
    "# Width of Graph\n",
    "W = 6\n",
    "# Length of Graph\n",
    "L = 6\n",
    "# edge\n",
    "Edge = 0\n",
    "# Area\n",
    "A = W*L\n",
    "\n",
    "# maze initializing\n",
    "maze = np.zeros((W,L), int)\n",
    "print(maze)\n",
    "#maze[0,1] = 1\n",
    "#maze[0,0] = 2"
   ]
  },
  {
   "cell_type": "code",
   "execution_count": 4,
   "id": "793bb8b9",
   "metadata": {},
   "outputs": [
    {
     "name": "stdout",
     "output_type": "stream",
     "text": [
      "[[0 0 0 0 0 0]\n",
      " [0 0 0 0 0 0]\n",
      " [0 0 0 0 0 0]\n",
      " [0 0 0 0 0 0]\n",
      " [0 0 0 0 0 0]\n",
      " [0 0 0 0 0 0]]\n",
      "\n",
      "\n",
      "[[-1, 0, 0, 0, 0, 0], [-1, 0, 0, 0, 0, 0], [-1, -1, -1, 0, 0, 0], [0, 0, 0, 0, 0, -1], [0, 1, 0, -1, 0, 0], [-1, 0, 0, 0, -1, 0]]\n"
     ]
    }
   ],
   "source": [
    "# Todo list:\n",
    "# if -1 = wall, block path\n",
    "# if 1 then ending\n",
    "# Creation of the graph\n",
    "\n",
    "# Width of Graph\n",
    "W = 6\n",
    "# Length of Graph\n",
    "L = 6\n",
    "# edge\n",
    "Edge = 0\n",
    "\n",
    "# maze initializing\n",
    "maze = np.zeros((W,L), int)\n",
    "print(maze)\n",
    "print()\n",
    "#maze[0,1] = 1\n",
    "#maze[0,0] = 2\n",
    "\n",
    "# randomizer\n",
    "#for i in range(W):\n",
    "#    for j in range(L):\n",
    "#        if np.random.randint(0,10) < 2:\n",
    "#            maze[i,j] = -1\n",
    "\n",
    "maze = [[-1, 0, 0, 0, 0, 0],\n",
    "       [-1, 0, 0, 0, 0, 0],\n",
    "       [-1, -1, -1, 0, 0, 0],\n",
    "       [0, 0, 0, 0, 0, -1],\n",
    "       [0, 1, 0, -1, 0, 0],\n",
    "       [-1, 0, 0, 0, -1, 0]]\n",
    "\n",
    "\n",
    "print()\n",
    "        \n",
    "\n",
    "# end goal\n",
    "# maze[5,5] = 1\n",
    "print(maze)\n",
    "win_x = 1\n",
    "win_y = 4"
   ]
  },
  {
   "cell_type": "code",
   "execution_count": 5,
   "id": "30e463ef",
   "metadata": {},
   "outputs": [],
   "source": [
    "# define class of agent\n",
    "class agent():\n",
    "    # Default Constructor\n",
    "    def __init__(self, name, pos_x = 0, pos_y = 0):\n",
    "        self.name = name\n",
    "        self.position_x = pos_x\n",
    "        self.position_y = pos_y\n",
    "        print(\"agent created:\",name)\n",
    "        \n",
    "    def curr_position(self):\n",
    "        return (self.position_x,self.position_y)\n",
    "    \n",
    "        \n",
    "    # Movement method for our agent\n",
    "    def movement(self, maze, move):\n",
    "        #view_maze(maze)\n",
    "        print(\"new movement made\")\n",
    "        \n",
    "        # go down\n",
    "        if move == 1 and maze[self.position_x,self.position_y+1]!=-1:\n",
    "            self.position_y+=1\n",
    "            print(\"right\")\n",
    "        # go up\n",
    "        elif move == 2 and maze[self.position_x,self.position_y-1]!=-1:\n",
    "            self.position_y-=1\n",
    "            print(\"left\")\n",
    "        # move right\n",
    "        elif move == 3 and maze[self.position_x+1,self.position_y]!=-1:\n",
    "            self.position_x+=1\n",
    "            print(\"down\")\n",
    "        # move left\n",
    "        elif move == 4 and maze[self.position_x-1,self.position_y]!=-1:\n",
    "            self.position_x-=1\n",
    "            print(\"up\")\n",
    "        else:\n",
    "            print(\"hit a wall\")\n",
    "            \n",
    "            "
   ]
  },
  {
   "cell_type": "code",
   "execution_count": 6,
   "id": "a18f7eb6",
   "metadata": {},
   "outputs": [
    {
     "name": "stdout",
     "output_type": "stream",
     "text": [
      "agent created: Peter\n"
     ]
    }
   ],
   "source": [
    "# Test Agent\n",
    "a1 = agent(\"Peter\",1,1)"
   ]
  },
  {
   "cell_type": "code",
   "execution_count": 7,
   "id": "d115bf73",
   "metadata": {},
   "outputs": [],
   "source": [
    "def view_maze(maze):\n",
    "    print(\"   1  2  3\")\n",
    "    count = 0\n",
    "    for i in maze:\n",
    "        count+=1\n",
    "        print(count,i)"
   ]
  },
  {
   "cell_type": "code",
   "execution_count": 8,
   "id": "4bc5d311",
   "metadata": {},
   "outputs": [
    {
     "name": "stdout",
     "output_type": "stream",
     "text": [
      "start\n",
      "x 2 y 2\n"
     ]
    },
    {
     "ename": "TypeError",
     "evalue": "list indices must be integers or slices, not tuple",
     "output_type": "error",
     "traceback": [
      "\u001b[1;31m---------------------------------------------------------------------------\u001b[0m",
      "\u001b[1;31mTypeError\u001b[0m                                 Traceback (most recent call last)",
      "\u001b[1;32m<ipython-input-8-f3f1616f153c>\u001b[0m in \u001b[0;36m<module>\u001b[1;34m\u001b[0m\n\u001b[0;32m     10\u001b[0m         \u001b[1;32mbreak\u001b[0m\u001b[1;33m\u001b[0m\u001b[1;33m\u001b[0m\u001b[0m\n\u001b[0;32m     11\u001b[0m     \u001b[0mprint\u001b[0m\u001b[1;33m(\u001b[0m\u001b[1;34m\"x\"\u001b[0m\u001b[1;33m,\u001b[0m\u001b[0mx_pos\u001b[0m \u001b[1;33m+\u001b[0m \u001b[1;36m1\u001b[0m\u001b[1;33m,\u001b[0m\u001b[1;34m\"y\"\u001b[0m\u001b[1;33m,\u001b[0m\u001b[0my_pos\u001b[0m \u001b[1;33m+\u001b[0m \u001b[1;36m1\u001b[0m\u001b[1;33m)\u001b[0m\u001b[1;33m\u001b[0m\u001b[1;33m\u001b[0m\u001b[0m\n\u001b[1;32m---> 12\u001b[1;33m     \u001b[0mmaze\u001b[0m\u001b[1;33m[\u001b[0m\u001b[0mx_pos\u001b[0m\u001b[1;33m,\u001b[0m\u001b[0my_pos\u001b[0m\u001b[1;33m]\u001b[0m \u001b[1;33m=\u001b[0m \u001b[0mi\u001b[0m \u001b[1;33m+\u001b[0m \u001b[1;36m1\u001b[0m\u001b[1;33m\u001b[0m\u001b[1;33m\u001b[0m\u001b[0m\n\u001b[0m\u001b[0;32m     13\u001b[0m     \u001b[0mview_maze\u001b[0m\u001b[1;33m(\u001b[0m\u001b[0mmaze\u001b[0m\u001b[1;33m)\u001b[0m\u001b[1;33m\u001b[0m\u001b[1;33m\u001b[0m\u001b[0m\n\u001b[0;32m     14\u001b[0m     \u001b[0mprint\u001b[0m\u001b[1;33m(\u001b[0m\u001b[1;34m'iter'\u001b[0m\u001b[1;33m,\u001b[0m\u001b[0mi\u001b[0m\u001b[1;33m)\u001b[0m\u001b[1;33m\u001b[0m\u001b[1;33m\u001b[0m\u001b[0m\n",
      "\u001b[1;31mTypeError\u001b[0m: list indices must be integers or slices, not tuple"
     ]
    }
   ],
   "source": [
    "# boundary checker + movement functionality\n",
    "\n",
    "#start\n",
    "print(\"start\")\n",
    "\n",
    "for i in range(100):\n",
    "    x_pos, y_pos = a1.curr_position()\n",
    "    if x_pos == win_x and y_pos == win_y:\n",
    "        print(\"Goal reached\")\n",
    "        break\n",
    "    print(\"x\",x_pos + 1,\"y\",y_pos + 1)\n",
    "    maze[x_pos,y_pos] = i + 1\n",
    "    view_maze(maze)\n",
    "    print('iter',i)\n",
    "    move = np.random.randint(1,5)\n",
    "    # Checks for boundaries in down\n",
    "    if x_pos < W - 1 and move == 3:\n",
    "        a1.movement(maze, move)\n",
    "    # Checks for boundaries in up\n",
    "    elif x_pos > Edge and move == 4:\n",
    "        a1.movement(maze, move)\n",
    "    #checks for boundaries in left\n",
    "    elif y_pos < L - 1 and move == 1:\n",
    "        a1.movement(maze, move)\n",
    "    # Checks for boundaries in right\n",
    "    elif y_pos > Edge and move == 2:\n",
    "        a1.movement(maze, move)\n",
    "    # indicate that the agent hit the boundary\n",
    "    else:\n",
    "        if move == 1:\n",
    "            print(\"boundary hit on right\")\n",
    "        elif move == 2:\n",
    "            print(\"boundary hit on left\")\n",
    "        elif move == 3:\n",
    "            print(\"boundary hit on down\")\n",
    "        elif move == 4:\n",
    "            print(\"boundary hit on up\")\n",
    "    print('---------- END OF TURN ---------------')"
   ]
  },
  {
   "cell_type": "code",
   "execution_count": null,
   "id": "191a076d",
   "metadata": {},
   "outputs": [],
   "source": []
  }
 ],
 "metadata": {
  "kernelspec": {
   "display_name": "Python 3",
   "language": "python",
   "name": "python3"
  },
  "language_info": {
   "codemirror_mode": {
    "name": "ipython",
    "version": 3
   },
   "file_extension": ".py",
   "mimetype": "text/x-python",
   "name": "python",
   "nbconvert_exporter": "python",
   "pygments_lexer": "ipython3",
   "version": "3.9.5"
  }
 },
 "nbformat": 4,
 "nbformat_minor": 5
}
