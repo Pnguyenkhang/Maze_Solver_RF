{
 "cells": [
  {
   "cell_type": "code",
   "execution_count": 1,
   "id": "993982af",
   "metadata": {},
   "outputs": [],
   "source": [
    "# the actual movement\n",
    "import numpy as np\n",
    "import random\n",
    "import matplotlib.pyplot as plt"
   ]
  },
  {
   "cell_type": "code",
   "execution_count": 1,
   "id": "7543d8db",
   "metadata": {},
   "outputs": [],
   "source": [
    "# Matrix generation functionality\n",
    "# Width\n",
    "W = 4\n",
    "# Length\n",
    "L = 4\n",
    "# Area \n",
    "A = W*L\n",
    "\n",
    "# For Maze Creation and q table pairing\n",
    "def create_maze(width, length):\n",
    "    maze = np.zeros((width, length), int)\n",
    "    return maze\n",
    "\n",
    "# Create Q-table\n",
    "def create_Q_table(maze,width,length):\n",
    "    q_table = np.zeros((width, length, 4))\n",
    "    # boundary creation for walls in the Q-table\n",
    "    for i in range(width):\n",
    "        for j in range(length):\n",
    "            if j == 0:\n",
    "                # upper bound\n",
    "                q_table[i,j,4] = None\n",
    "            elif i == 0:\n",
    "                # left bound\n",
    "                q_table[i,j,4] = None\n",
    "            \n",
    "                \n",
    "    \n",
    "\n",
    "# For Saving the maze\n",
    "def save_maze(maze):\n",
    "    np.save('maze4by4',maze)\n",
    "\n",
    "# Load in maze from file\n",
    "def load_maze(mazename):\n",
    "    return np.load(mazename)\n",
    "\n",
    "# View maze\n",
    "def view_maze(maze):\n",
    "    count = 0\n",
    "    for i in maze:\n",
    "        count+=1\n",
    "        print(count,i)\n",
    "        \n",
    "# fill maze w obstacles\n",
    "def fill_maze(maze, Width, Length):\n",
    "    for i in range(Width):\n",
    "        for j in range(Length):\n",
    "            if np.random.randint(0,10) < 1:\n",
    "                maze[i,j] = -100\n",
    "    return maze\n",
    "\n"
   ]
  },
  {
   "cell_type": "code",
   "execution_count": 17,
   "id": "9f032196",
   "metadata": {},
   "outputs": [],
   "source": [
    "# define class of agent\n",
    "class agent():\n",
    "    # Default Constructor\n",
    "    def __init__(self, name, pos_x = 0, pos_y = 0):\n",
    "        self.name = name\n",
    "        self.position_x = pos_x\n",
    "        self.position_y = pos_y\n",
    "        print(\"agent created:\",name)\n",
    "        \n",
    "    def curr_position(self):\n",
    "        return (self.position_x,self.position_y)\n",
    "    \n",
    "        \n",
    "    # Movement method for our agent\n",
    "    def movement(self, maze, move):\n",
    "        #view_maze(maze)\n",
    "        print(\"new movement made\")\n",
    "        \n",
    "        # go right\n",
    "        if move == 1 and maze[self.position_x,self.position_y+1]!=-1:\n",
    "            self.position_y+=1\n",
    "            print(\"right\")\n",
    "        # go left\n",
    "        elif move == 2 and maze[self.position_x,self.position_y-1]!=-1:\n",
    "            self.position_y-=1\n",
    "            print(\"left\")\n",
    "        # move down\n",
    "        elif move == 3 and maze[self.position_x+1,self.position_y]!=-1:\n",
    "            self.position_x+=1\n",
    "            print(\"down\")\n",
    "        # move up\n",
    "        elif move == 4 and maze[self.position_x-1,self.position_y]!=-1:\n",
    "            self.position_x-=1\n",
    "            print(\"up\")\n",
    "        else:\n",
    "            print(\"hit a boulder\")\n",
    "            \n",
    "            "
   ]
  },
  {
   "cell_type": "code",
   "execution_count": 18,
   "id": "fa1a6b44",
   "metadata": {},
   "outputs": [],
   "source": [
    "def isGameOver(cur_x, cur_y):\n",
    "    if cur_x == 4 and cur_y == 4:\n",
    "        return True"
   ]
  },
  {
   "cell_type": "code",
   "execution_count": 8,
   "id": "98dd3ff7",
   "metadata": {},
   "outputs": [],
   "source": [
    "# actual maze creation\n",
    "maze= create_maze(4,4)\n",
    "maze = fill_maze(maze,4,4)\n",
    "save_maze(maze)"
   ]
  },
  {
   "cell_type": "code",
   "execution_count": 23,
   "id": "32490ed4",
   "metadata": {},
   "outputs": [],
   "source": [
    "# set percent that you want to explore\n",
    "epsilon = 0.2\n",
    "discount = 0.9\n",
    "learning_rate = 0.1"
   ]
  },
  {
   "cell_type": "code",
   "execution_count": 9,
   "id": "a8aa97bd",
   "metadata": {},
   "outputs": [
    {
     "data": {
      "text/plain": [
       "array([[   0,    0,    0,    0],\n",
       "       [   0,    0,    0,    0],\n",
       "       [   0, -100,    0,    0],\n",
       "       [   0,    0,    0,    0]])"
      ]
     },
     "execution_count": 9,
     "metadata": {},
     "output_type": "execute_result"
    }
   ],
   "source": [
    "maze = load_maze(\"maze4by4.npy\")\n",
    "# view_maze(maze) # environment matrix\n",
    "maze"
   ]
  },
  {
   "cell_type": "code",
   "execution_count": 8,
   "id": "cbf990cc",
   "metadata": {},
   "outputs": [
    {
     "name": "stdout",
     "output_type": "stream",
     "text": [
      "[[-100    0    0    0    0    0]\n",
      " [   0 -100    0    0    0    0]\n",
      " [-100    0    0    0    0    0]\n",
      " [-100    0 -100 -100 -100    0]\n",
      " [   0 -100    0    0  100    0]\n",
      " [   0    0 -100    0    0    0]]\n"
     ]
    }
   ],
   "source": [
    "# main function/loop\n",
    "# winning spot was (4,4)\n",
    "\n",
    "# Exploration rate vs exploitation rate, higher the epsilon value, the more exploration will occur\n",
    "epsilon = 0.2\n",
    "for i in range(100):\n",
    "    # start off at our random position\n",
    "    cur_x = random.randint(0,W)\n",
    "    cur_y = random.randint(0,L)\n",
    "    #print(i,cur_x,cur_y)\n",
    "    \n",
    "    # resets the maze along with the goal point\n",
    "    maze = load_maze(\"maze4.npy\")\n",
    "    maze[4,4] = 100\n",
    "    \n",
    "    \n",
    "print(maze)\n",
    "    \n",
    "    "
   ]
  },
  {
   "cell_type": "code",
   "execution_count": 9,
   "id": "1540014c",
   "metadata": {},
   "outputs": [
    {
     "ename": "NameError",
     "evalue": "name 'q_table' is not defined",
     "output_type": "error",
     "traceback": [
      "\u001b[1;31m---------------------------------------------------------------------------\u001b[0m",
      "\u001b[1;31mNameError\u001b[0m                                 Traceback (most recent call last)",
      "\u001b[1;32m<ipython-input-9-71c84b76edfa>\u001b[0m in \u001b[0;36m<module>\u001b[1;34m\u001b[0m\n\u001b[1;32m----> 1\u001b[1;33m \u001b[0mprint\u001b[0m\u001b[1;33m(\u001b[0m\u001b[0mq_table\u001b[0m\u001b[1;33m[\u001b[0m\u001b[1;36m0\u001b[0m\u001b[1;33m,\u001b[0m\u001b[1;36m5\u001b[0m\u001b[1;33m,\u001b[0m\u001b[1;36m0\u001b[0m\u001b[1;33m]\u001b[0m\u001b[1;33m)\u001b[0m \u001b[1;31m# x, y coord, action value\u001b[0m\u001b[1;33m\u001b[0m\u001b[1;33m\u001b[0m\u001b[0m\n\u001b[0m\u001b[0;32m      2\u001b[0m \u001b[0mprint\u001b[0m\u001b[1;33m(\u001b[0m\u001b[0mq_table\u001b[0m\u001b[1;33m)\u001b[0m\u001b[1;33m\u001b[0m\u001b[1;33m\u001b[0m\u001b[0m\n",
      "\u001b[1;31mNameError\u001b[0m: name 'q_table' is not defined"
     ]
    }
   ],
   "source": [
    "print(q_table[0,5,0]) # x, y coord, action value\n",
    "print(q_table)"
   ]
  },
  {
   "cell_type": "code",
   "execution_count": null,
   "id": "6edcb06b",
   "metadata": {},
   "outputs": [],
   "source": []
  }
 ],
 "metadata": {
  "kernelspec": {
   "display_name": "Python 3",
   "language": "python",
   "name": "python3"
  },
  "language_info": {
   "codemirror_mode": {
    "name": "ipython",
    "version": 3
   },
   "file_extension": ".py",
   "mimetype": "text/x-python",
   "name": "python",
   "nbconvert_exporter": "python",
   "pygments_lexer": "ipython3",
   "version": "3.9.5"
  }
 },
 "nbformat": 4,
 "nbformat_minor": 5
}
